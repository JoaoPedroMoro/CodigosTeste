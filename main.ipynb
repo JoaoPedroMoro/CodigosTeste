{
 "cells": [
  {
   "cell_type": "markdown",
   "metadata": {},
   "source": [
    "1) Observe o trecho de código abaixo:\n",
    "\n",
    "int INDICE = 13, SOMA = 0, K = 0;\n",
    "\n",
    "enquanto K < INDICE faça\n",
    "\n",
    "{\n",
    "\n",
    "K = K + 1;\n",
    "\n",
    "SOMA = SOMA + K;\n",
    "\n",
    "}\n",
    "\n",
    "imprimir(SOMA);\n",
    "Ao final do processamento, qual será o valor da variável SOMA?"
   ]
  },
  {
   "cell_type": "code",
   "execution_count": 2,
   "metadata": {},
   "outputs": [
    {
     "name": "stdout",
     "output_type": "stream",
     "text": [
      "O valor da varíavel soma é 91\n"
     ]
    }
   ],
   "source": [
    "indice = 13\n",
    "soma = 0\n",
    "k = 0\n",
    "\n",
    "while k<indice:\n",
    "    k += 1\n",
    "    soma += k\n",
    "    \n",
    "    \n",
    "print(f\"O valor da varíavel soma é {soma}\")"
   ]
  },
  {
   "cell_type": "markdown",
   "metadata": {},
   "source": [
    "Dado a sequência de Fibonacci, onde se inicia por 0 e 1 e o próximo valor sempre será a soma dos 2 valores anteriores (exemplo: 0, 1, 1, 2, 3, 5, 8, 13, 21, 34...), escreva um programa na linguagem que desejar onde, informado um número, ele calcule a sequência de Fibonacci e retorne uma mensagem avisando se o número informado pertence ou não a sequência.\n",
    "\n",
    "\n",
    "\n",
    "IMPORTANTE:\n",
    "\n",
    "Esse número pode ser informado através de qualquer entrada de sua preferência ou pode ser previamente definido no código;"
   ]
  },
  {
   "cell_type": "code",
   "execution_count": 5,
   "metadata": {},
   "outputs": [
    {
     "name": "stdout",
     "output_type": "stream",
     "text": [
      "Seq - 2: 1\n",
      "Seq - 3: 2\n",
      "Seq - 4: 3\n",
      "Seq - 5: 5\n",
      "Seq - 6: 8\n",
      "Seq - 7: 13\n",
      "Seq - 8: 21\n",
      "Seq - 9: 34\n",
      "Seq - 10: 55\n",
      "Seq - 11: 89\n",
      "Seq - 12: 144\n",
      "O número 144 pertence a sequência de Fibonacci\n",
      "Sequência gerada: [0, 1, 1, 2, 3, 5, 8, 13, 21, 34, 55, 89, 144]\n"
     ]
    }
   ],
   "source": [
    "fib = [0, 1]\n",
    "\n",
    "# numero = 145  # Caso queira já deixar o número estabelecido fixo.\n",
    "numero = int(input(\"Digite o número que deseja descobrir se está na sequência de Fibonacci: \"))\n",
    "\n",
    "if numero == fib[0] or numero == fib[1]:\n",
    "    print(f\"O número {numero} está na sequência de fibonacci\")\n",
    "else:    \n",
    "    k = fib[1]\n",
    "    find = False\n",
    "\n",
    "    while k <= numero:\n",
    "        indice = len(fib)\n",
    "        new = fib[indice - 1] + fib[indice - 2]\n",
    "        print(f\"Seq - {indice}: {new}\")\n",
    "        fib.append(new)\n",
    "        if fib[indice] == numero:\n",
    "            print(f\"O número {numero} pertence a sequência de Fibonacci\")\n",
    "            print(f\"Sequência gerada: {fib}\")\n",
    "            find = True\n",
    "            break\n",
    "        k = fib[indice]\n",
    "    \n",
    "if not find:\n",
    "    print(f\"O número fornecido ({numero}) não pertence a sequência de Fibonacci\")\n",
    "    print(f\"Sequência gerada: {fib}\")"
   ]
  },
  {
   "cell_type": "markdown",
   "metadata": {},
   "source": [
    "3) Descubra a lógica e complete o próximo elemento:\n",
    "\n",
    "\n",
    "\n",
    "a) 1, 3, 5, 7, ___\n",
    "\n",
    "b) 2, 4, 8, 16, 32, 64, ____\n",
    "\n",
    "c) 0, 1, 4, 9, 16, 25, 36, ____\n",
    "\n",
    "d) 4, 16, 36, 64, ____\n",
    "\n",
    "e) 1, 1, 2, 3, 5, 8, ____\n",
    "\n",
    "f) 2,10, 12, 16, 17, 18, 19, ____"
   ]
  },
  {
   "cell_type": "code",
   "execution_count": 24,
   "metadata": {},
   "outputs": [
    {
     "name": "stdout",
     "output_type": "stream",
     "text": [
      "A sequência da letra a) é [1, 3, 5, 7, 9]\n",
      "A sequência da letra b) é [2, 4, 8, 16, 32, 64, 128]\n",
      "A sequência da letra c) é [0, 1, 4, 9, 16, 25, 36, 49]\n",
      "A sequência da letra d) é [4, 16, 36, 64, 100]\n",
      "A sequência da letra e) é [0, 1, 1, 2, 3, 5, 8, 13]\n",
      "A sequência da letra f) é [2, 10, 12, 16, 17, 18, 19, 20]\n"
     ]
    }
   ],
   "source": [
    "# Letra a)\n",
    "# A sequência é de números ímpares positivos\n",
    "seq1 = []\n",
    "for i in range(10):\n",
    "    if i%2 == 1:\n",
    "        seq1.append(i)\n",
    "print(f\"A sequência da letra a) é {seq1}\")\n",
    "\n",
    "# Letra b)\n",
    "# A sequência são as potências de 2 a partir de 2^1\n",
    "import math\n",
    "seq2 = []\n",
    "for i in range(1, 8):\n",
    "    seq2.append(int(math.pow(2, i)))\n",
    "print(f\"A sequência da letra b) é {seq2}\")\n",
    "\n",
    "# Letra c)\n",
    "# A sequência é das raízes quadradas a partir do 0\n",
    "seq3 = []\n",
    "for i in range(8):\n",
    "    seq3.append(int(math.pow(i, 2)))\n",
    "print(f\"A sequência da letra c) é {seq3}\")\n",
    "\n",
    "# Letra d)\n",
    "# A sequência é de números pares positivos elevados ao quadrado a partir do número 2.\n",
    "seq4 = []\n",
    "for i in range(1, 11):\n",
    "    if i%2 == 0:\n",
    "        seq4.append(int(pow(i, 2)))\n",
    "print(f\"A sequência da letra d) é {seq4}\")\n",
    "\n",
    "# Letra e)\n",
    "# A sequência é a sequência de Fibonacci\n",
    "fib = [0, 1]\n",
    "for i in range(6):\n",
    "    indice = len(fib)\n",
    "    fib.append(fib[indice - 1] + fib[indice - 2])\n",
    "print(f\"A sequência da letra e) é {fib}\")  \n",
    "\n",
    "# Letra f)\n",
    "# A sequência não parece ter uma lógica definida, é apenas números em sequência após alguns numeros aleatórios, assim\n",
    "# o próximo número é 19 somado a 1, ou seja, 20.\n",
    "seq5 = [2, 10, 12, 16, 17, 18, 19]\n",
    "seq5.append(seq5[len(seq5)-1] + 1)\n",
    "print(f\"A sequência da letra f) é {seq5}\")  "
   ]
  },
  {
   "cell_type": "markdown",
   "metadata": {},
   "source": [
    "4) Você está em uma sala com três interruptores, cada um conectado a uma lâmpada em uma sala diferente. Você não pode ver as lâmpadas da sala em que está, mas pode ligar e desligar os interruptores quantas vezes quiser. Seu objetivo é descobrir qual interruptor controla qual lâmpada.\n",
    "\n",
    "Como você faria para descobrir, usando apenas duas idas até uma das salas das lâmpadas, qual interruptor controla cada lâmpada?"
   ]
  },
  {
   "cell_type": "markdown",
   "metadata": {},
   "source": [
    "RESPOSTA:\n",
    "Ligaria dois interruptores e esperaria um tempo, depois desse tempo, desligaria um dos interruptores e iria para uma das 3 salas. Se a lâmpada estiver desligada e gelada, significa que o interruptor que não foi acionado é dela. Se estiver desligada porém quente, significa que o interruptor que ficou um tempo ligado mas foi desligado é dela. E se estiver com a luz acesa, o interruptor ligado é o dela. Após isso, já partiria para a segunda sala e realizaria o mesmo experimento, visto que uma luz que permaneceu um tempo ligada demora um tempo para esfriar, e assim, conseguiria a informação sobre 2 salas, e consequentemente, das 3 salas, sabendo o interruptor de cada uma."
   ]
  },
  {
   "cell_type": "markdown",
   "metadata": {},
   "source": [
    "5) Escreva um programa que inverta os caracteres de um string.\n",
    "\n",
    "\n",
    "IMPORTANTE:\n",
    "\n",
    "a) Essa string pode ser informada através de qualquer entrada de sua preferência ou pode ser previamente definida no código;\n",
    "\n",
    "b) Evite usar funções prontas, como, por exemplo, reverse;"
   ]
  },
  {
   "cell_type": "code",
   "execution_count": 31,
   "metadata": {},
   "outputs": [
    {
     "name": "stdout",
     "output_type": "stream",
     "text": [
      "A string invertida é: 'nohtyP odnazilitu oãçamargorp ed etseT' \n"
     ]
    }
   ],
   "source": [
    "string = \"Teste de programação utilizando Python\"\n",
    "string_invertida = \"\"\n",
    "for i in range(len(string)-1, -1, -1):\n",
    "    string_invertida += string[i]\n",
    "print(f\"A string invertida é: '{string_invertida}' \")"
   ]
  }
 ],
 "metadata": {
  "kernelspec": {
   "display_name": "base",
   "language": "python",
   "name": "python3"
  },
  "language_info": {
   "codemirror_mode": {
    "name": "ipython",
    "version": 3
   },
   "file_extension": ".py",
   "mimetype": "text/x-python",
   "name": "python",
   "nbconvert_exporter": "python",
   "pygments_lexer": "ipython3",
   "version": "3.11.5"
  }
 },
 "nbformat": 4,
 "nbformat_minor": 2
}
